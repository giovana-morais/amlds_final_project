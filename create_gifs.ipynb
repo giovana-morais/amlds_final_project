{
 "cells": [
  {
   "cell_type": "code",
   "execution_count": null,
   "id": "883cd4a2-4c3e-4c6f-b11f-f1fc766b842f",
   "metadata": {},
   "outputs": [],
   "source": [
    "!pip install imageio"
   ]
  },
  {
   "cell_type": "code",
   "execution_count": null,
   "id": "0155a69c-221f-43e6-8346-0d0fc4895959",
   "metadata": {},
   "outputs": [],
   "source": [
    "import glob\n",
    "import re\n",
    "\n",
    "import imageio.v2 as imageio"
   ]
  },
  {
   "cell_type": "code",
   "execution_count": null,
   "id": "f073c8ed-d71b-41e3-8389-92837876954f",
   "metadata": {},
   "outputs": [],
   "source": [
    "def atoi(text):\n",
    "    return int(text) if text.isdigit() else text\n",
    "\n",
    "def natural_keys(text):\n",
    "    '''\n",
    "    alist.sort(key=natural_keys) sorts in human order\n",
    "    http://nedbatchelder.com/blog/200712/human_sorting.html\n",
    "    (See Toothy's implementation in the comments)\n",
    "    '''\n",
    "    return [ atoi(c) for c in re.split(r'(\\d+)', text) ]"
   ]
  },
  {
   "cell_type": "code",
   "execution_count": null,
   "id": "f1cdd946-28ef-47eb-9f91-d5c829f54097",
   "metadata": {},
   "outputs": [],
   "source": [
    "weights_list = glob.glob(\"weights/w_*.png\")\n",
    "weights_list.sort(key=natural_keys)\n",
    "\n",
    "images = []\n",
    "for filename in weights_list:\n",
    "    images.append(imageio.imread(filename))\n",
    "imageio.mimsave(\"w_evolution.gif\", images, fps=5)"
   ]
  },
  {
   "cell_type": "code",
   "execution_count": null,
   "id": "ea7c49ec-8ef8-44b8-a044-ef20c02d3954",
   "metadata": {},
   "outputs": [],
   "source": [
    "weights_list = glob.glob(\"weights/a_*.png\")\n",
    "weights_list.sort(key=natural_keys)\n",
    "\n",
    "images = []\n",
    "for filename in weights_list:\n",
    "    images.append(imageio.imread(filename))\n",
    "imageio.mimsave(\"a_evolution.gif\", images, fps=5)"
   ]
  },
  {
   "cell_type": "code",
   "execution_count": null,
   "id": "7ff68c71-e9f2-40f2-ae1e-aae0c2003e50",
   "metadata": {},
   "outputs": [],
   "source": [
    "kernels_list = glob.glob(\"kernels/k_test_*.png\")\n",
    "kernels_list.sort(key=natural_keys)\n",
    "\n",
    "images = []\n",
    "for filename in kernels_list:\n",
    "    images.append(imageio.imread(filename))\n",
    "imageio.mimsave(\"k_evolution.gif\", images, fps=50)"
   ]
  },
  {
   "cell_type": "code",
   "execution_count": null,
   "id": "ad4b29c0-7df1-4aa2-90ed-16f018b567ce",
   "metadata": {},
   "outputs": [],
   "source": []
  }
 ],
 "metadata": {
  "kernelspec": {
   "display_name": "Python 3 (ipykernel)",
   "language": "python",
   "name": "python3"
  },
  "language_info": {
   "codemirror_mode": {
    "name": "ipython",
    "version": 3
   },
   "file_extension": ".py",
   "mimetype": "text/x-python",
   "name": "python",
   "nbconvert_exporter": "python",
   "pygments_lexer": "ipython3",
   "version": "3.9.21"
  }
 },
 "nbformat": 4,
 "nbformat_minor": 5
}
