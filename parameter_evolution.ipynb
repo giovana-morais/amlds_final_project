{
 "cells": [
  {
   "cell_type": "code",
   "execution_count": null,
   "id": "c6eb8218-cec0-48dd-9528-ee0bc183d5e3",
   "metadata": {},
   "outputs": [],
   "source": [
    "import glob\n",
    "import re\n",
    "\n",
    "import matplotlib.pyplot as plt\n",
    "import numpy as np\n",
    "import seaborn as sns"
   ]
  },
  {
   "cell_type": "code",
   "execution_count": null,
   "id": "039add51-b0b8-443f-a32f-1b6bf811ee20",
   "metadata": {},
   "outputs": [],
   "source": [
    "def atoi(text):\n",
    "    return int(text) if text.isdigit() else text\n",
    "\n",
    "def natural_keys(text):\n",
    "    '''\n",
    "    alist.sort(key=natural_keys) sorts in human order\n",
    "    http://nedbatchelder.com/blog/200712/human_sorting.html\n",
    "    (See Toothy's implementation in the comments)\n",
    "    '''\n",
    "    return [ atoi(c) for c in re.split(r'(\\d+)', text) ]"
   ]
  },
  {
   "cell_type": "markdown",
   "id": "216f36b1-f198-4e29-8d68-5872afe31dd1",
   "metadata": {},
   "source": [
    "# Weights"
   ]
  },
  {
   "cell_type": "code",
   "execution_count": null,
   "id": "5afc1e8a-ed53-43da-a5a1-db88a18724d1",
   "metadata": {},
   "outputs": [],
   "source": [
    "# weights of the first layer\n",
    "weights_list = glob.glob(\"weights/w_*.npy\")\n",
    "weights_list.sort(key=natural_keys)\n",
    "\n",
    "for w in weights_list:\n",
    "    figname = w.replace(\"npy\", \"png\")\n",
    "    W = np.load(w)\n",
    "    #print(W.shape)\n",
    "    sns.heatmap(W, vmin=-60, vmax=60)\n",
    "    plt.title(w.split(\"/\")[1][:-4])\n",
    "    plt.savefig(figname)\n",
    "    plt.clf()"
   ]
  },
  {
   "cell_type": "code",
   "execution_count": null,
   "id": "8137f0e3-ce76-4a4f-9e4d-0b43b456e3d6",
   "metadata": {},
   "outputs": [],
   "source": [
    "# weights of the second layer\n",
    "weights_list = glob.glob(\"weights/a_*.npy\")\n",
    "weights_list.sort(key=natural_keys)\n",
    "\n",
    "for a in weights_list:\n",
    "    figname = a.replace(\"npy\", \"png\")\n",
    "    A = np.load(a)\n",
    "    A = np.expand_dims(A, 1)\n",
    "    #print(W.shape)\n",
    "    sns.heatmap(A) #, vmin=-60, vmax=60)\n",
    "    plt.title(a.split(\"/\")[1][:-4])\n",
    "    plt.savefig(figname)\n",
    "    plt.clf()"
   ]
  },
  {
   "cell_type": "markdown",
   "id": "507cc065-2c96-4b3f-8cf9-5afafbc073d1",
   "metadata": {},
   "source": [
    "# Kernels"
   ]
  },
  {
   "cell_type": "code",
   "execution_count": null,
   "id": "6dcd2724-3b0f-49ce-a9ea-c04df22be06a",
   "metadata": {},
   "outputs": [],
   "source": [
    "kernels_list = glob.glob(\"kernels/k_test_*.npy\")\n",
    "kernels_list.sort(key=natural_keys)"
   ]
  },
  {
   "cell_type": "code",
   "execution_count": null,
   "id": "0af45cfb-cfee-48a8-abac-80aee9d1c9ca",
   "metadata": {},
   "outputs": [],
   "source": [
    "len(kernels_list), kernels_list[0]"
   ]
  },
  {
   "cell_type": "code",
   "execution_count": null,
   "id": "10ea5869-19a4-4c68-b2f4-314e3ddd9896",
   "metadata": {},
   "outputs": [],
   "source": [
    "K_test_all = []\n",
    "for k in kernels_list:\n",
    "    figname = k.replace(\"npy\", \"png\")\n",
    "    K_test = np.load(k)\n",
    "    K_test_all.append(K_test)\n",
    "    sns.heatmap(K_test, square=True, vmin=-0.0015, vmax=0.003)\n",
    "    plt.title(k.split(\"/\")[1][:-4])\n",
    "    plt.savefig(figname)\n",
    "    plt.clf()"
   ]
  },
  {
   "cell_type": "markdown",
   "id": "068dd781-338f-4438-a0e7-a55a3f36e878",
   "metadata": {},
   "source": [
    "# Top eigenvalues vs bottom eigenvalues"
   ]
  },
  {
   "cell_type": "code",
   "execution_count": null,
   "id": "2db18e67-2b72-4a37-a7c6-0b9bcf401bfe",
   "metadata": {},
   "outputs": [],
   "source": [
    "top = []\n",
    "bottom = []\n",
    "fig, ax = plt.subplots(1,3, figsize=(10,5))\n",
    "for idx, k in enumerate(K_test_all):\n",
    "    if idx % 50 == 0:\n",
    "        eigenval, eigenvec = np.linalg.eigh(k)\n",
    "        sorted_eigenval = np.sort(eigenval)[::-1]\n",
    "        top_eigenval = sorted_eigenval[:10]\n",
    "        bottom_eigenval = sorted_eigenval[-10:]\n",
    "    \n",
    "        iteration = kernels_list[idx].split(\"_\")[-1][:-4]\n",
    "        ax[0].plot(top_eigenval, label=f\"t = {iteration}\")\n",
    "        ax[1].plot(bottom_eigenval, label=f\"t = {iteration}\")\n",
    "        ax[2].plot(top_eigenval/bottom_eigenval, label=f\"t = {iteration}\")\n",
    "\n",
    "#ax[0].legend()\n",
    "#ax[1].legend()\n",
    "ax[2].legend(bbox_to_anchor=(0,1.2), ncols=5)\n",
    "plt.tight_layout()"
   ]
  },
  {
   "cell_type": "code",
   "execution_count": null,
   "id": "56996e20-ddda-4a60-a81c-28155a9a17d9",
   "metadata": {},
   "outputs": [],
   "source": [
    "eigenval.shape"
   ]
  },
  {
   "cell_type": "code",
   "execution_count": null,
   "id": "0f042436-67a9-4795-aa2b-b8126aaf0194",
   "metadata": {},
   "outputs": [],
   "source": [
    "eigenvec.shape"
   ]
  }
 ],
 "metadata": {
  "kernelspec": {
   "display_name": "Python 3 (ipykernel)",
   "language": "python",
   "name": "python3"
  },
  "language_info": {
   "codemirror_mode": {
    "name": "ipython",
    "version": 3
   },
   "file_extension": ".py",
   "mimetype": "text/x-python",
   "name": "python",
   "nbconvert_exporter": "python",
   "pygments_lexer": "ipython3",
   "version": "3.9.21"
  }
 },
 "nbformat": 4,
 "nbformat_minor": 5
}
